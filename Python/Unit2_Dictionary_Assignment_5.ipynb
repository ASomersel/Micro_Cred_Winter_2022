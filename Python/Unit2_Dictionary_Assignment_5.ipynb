{
 "cells": [
  {
   "cell_type": "markdown",
   "metadata": {
    "colab_type": "text",
    "id": "view-in-github"
   },
   "source": [
    "<a href=\"https://colab.research.google.com/github/niteen11/lagcc_data_analytics_micro_credential/blob/master/Unit%202%20-%20Python%20Fundamentals/Assignments/Unit2_Dictionary_Assignment_5.ipynb\" target=\"_parent\"><img src=\"https://colab.research.google.com/assets/colab-badge.svg\" alt=\"Open In Colab\"/></a>"
   ]
  },
  {
   "cell_type": "markdown",
   "metadata": {
    "id": "Vgs8Kp4TidFQ"
   },
   "source": [
    "# Intrdouction to Python - Dictionary - Assignment #5 "
   ]
  },
  {
   "cell_type": "markdown",
   "metadata": {
    "id": "_Hq7Ny79iwgD"
   },
   "source": [
    "## 1.\tCreate a simple dictionary that stores 2 variables, for example: first and last name."
   ]
  },
  {
   "cell_type": "code",
   "execution_count": 1,
   "metadata": {
    "id": "lotvpVpvlKsR"
   },
   "outputs": [],
   "source": [
    "dictionary = {}"
   ]
  },
  {
   "cell_type": "code",
   "execution_count": 2,
   "metadata": {
    "id": "oNXY-CfrlLbE"
   },
   "outputs": [],
   "source": [
    "dictionary['first_name'] = 'John'\n",
    "dictionary['last_name'] = 'Murdock'"
   ]
  },
  {
   "cell_type": "markdown",
   "metadata": {
    "id": "io_27RSlizno"
   },
   "source": [
    "## 2.\tPrint out those variables stored in your previous dictionary. "
   ]
  },
  {
   "cell_type": "code",
   "execution_count": 3,
   "metadata": {
    "id": "Dh1o5cAylSHB"
   },
   "outputs": [
    {
     "name": "stdout",
     "output_type": "stream",
     "text": [
      "{'first_name': 'John', 'last_name': 'Murdock'}\n"
     ]
    }
   ],
   "source": [
    "print(dictionary)"
   ]
  },
  {
   "cell_type": "markdown",
   "metadata": {
    "id": "DAW8m8IQjRyR"
   },
   "source": [
    "## 3.\tAdd a message to those variables on printing: for example: “Hello, firstname lastname!”"
   ]
  },
  {
   "cell_type": "code",
   "execution_count": 10,
   "metadata": {
    "id": "guULMEhrjYtT"
   },
   "outputs": [
    {
     "name": "stdout",
     "output_type": "stream",
     "text": [
      "Hello, John Murdock! I HAVE TO TALK TO YOU ABOUT YOUR EXPIRED CAR INSURANCE!!!\n"
     ]
    }
   ],
   "source": [
    "print(\"Hello, \" + dictionary['first_name'] + \" \" + dictionary['last_name'] + \"! I HAVE TO TALK TO YOU ABOUT YOUR EXPIRED CAR INSURANCE!!!\")"
   ]
  },
  {
   "cell_type": "markdown",
   "metadata": {
    "id": "dpa_YOt4jXyo"
   },
   "source": [
    "## 4.\tCreate a dictionary that holds 2 key: value pairs:\n",
    "\n",
    "a.\tLook through your dictionary and print each pair,\n"
   ]
  },
  {
   "cell_type": "code",
   "execution_count": 1,
   "metadata": {
    "id": "pltxfnh3iJLW"
   },
   "outputs": [],
   "source": [
    "food_order = {}"
   ]
  },
  {
   "cell_type": "code",
   "execution_count": 11,
   "metadata": {
    "id": "PzH5Rcn-jwPL"
   },
   "outputs": [],
   "source": [
    "food_order['appetizer'] = 'mozzarella sticks'\n",
    "food_order['entree'] = 'steak frites'\n",
    "food_order['drink'] = 'coke'\n",
    "food_order['dessert'] = 'molten lava cake'"
   ]
  },
  {
   "cell_type": "code",
   "execution_count": 12,
   "metadata": {
    "id": "34IFFtK4jrg4"
   },
   "outputs": [
    {
     "name": "stdout",
     "output_type": "stream",
     "text": [
      "{'appetizer': 'mozzarella sticks', 'entree': 'steak frites', 'drink': 'coke', 'dessert': 'molten lava cake'}\n"
     ]
    }
   ],
   "source": [
    "print(food_order)"
   ]
  },
  {
   "cell_type": "code",
   "execution_count": 13,
   "metadata": {
    "id": "M17RfxQljvqb"
   },
   "outputs": [
    {
     "name": "stdout",
     "output_type": "stream",
     "text": [
      "pepsi is the less superior drink. coke is the better soda!\n"
     ]
    }
   ],
   "source": [
    "print( \"pepsi is the less superior drink. \" + food_order['drink'] + \" is the better soda!\")"
   ]
  },
  {
   "cell_type": "code",
   "execution_count": 19,
   "metadata": {
    "id": "4agTp_Cyju4-"
   },
   "outputs": [
    {
     "name": "stdout",
     "output_type": "stream",
     "text": [
      "I would like to start with mozzarella sticks\n",
      " Then let me get the steak frites with some mashed potatoes for my side.\n",
      "I'm going to finish it off with a coke and let me get a molten lava cake for later.\n"
     ]
    }
   ],
   "source": [
    "print( \"I would like to start with \" + food_order['appetizer'])\n",
    "print( \" Then let me get the \" + food_order['entree'] + \" with some mashed potatoes for my side.\")\n",
    "print( \"I'm going to finish it off with a \" + food_order['drink'] + \" and let me get a \" + food_order['dessert'] + \" for later.\") "
   ]
  },
  {
   "cell_type": "code",
   "execution_count": 20,
   "metadata": {
    "id": "jjh2GdktllZY"
   },
   "outputs": [],
   "source": [
    "del food_order['drink']"
   ]
  },
  {
   "cell_type": "code",
   "execution_count": 21,
   "metadata": {
    "id": "iHaRIrt8llcd"
   },
   "outputs": [
    {
     "name": "stdout",
     "output_type": "stream",
     "text": [
      "{'appetizer': 'mozzarella sticks', 'entree': 'steak frites', 'dessert': 'molten lava cake'}\n"
     ]
    }
   ],
   "source": [
    "print(food_order)"
   ]
  }
 ],
 "metadata": {
  "colab": {
   "authorship_tag": "ABX9TyMQClfokgj55ihmq+VneG5D",
   "collapsed_sections": [],
   "include_colab_link": true,
   "name": "Unit2_Dictionary_Assignment_5.ipynb",
   "provenance": [],
   "toc_visible": true
  },
  "kernelspec": {
   "display_name": "Python 3 (ipykernel)",
   "language": "python",
   "name": "python3"
  },
  "language_info": {
   "codemirror_mode": {
    "name": "ipython",
    "version": 3
   },
   "file_extension": ".py",
   "mimetype": "text/x-python",
   "name": "python",
   "nbconvert_exporter": "python",
   "pygments_lexer": "ipython3",
   "version": "3.9.7"
  }
 },
 "nbformat": 4,
 "nbformat_minor": 1
}
