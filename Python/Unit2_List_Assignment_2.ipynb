{
 "cells": [
  {
   "cell_type": "markdown",
   "metadata": {
    "colab_type": "text",
    "id": "view-in-github"
   },
   "source": [
    "<a href=\"https://colab.research.google.com/github/niteen11/lagcc_data_analytics_micro_credential/blob/master/Unit%202%20-%20Python%20Fundamentals/Assignments/Unit2_List_Assignment_2.ipynb\" target=\"_parent\"><img src=\"https://colab.research.google.com/assets/colab-badge.svg\" alt=\"Open In Colab\"/></a>"
   ]
  },
  {
   "cell_type": "markdown",
   "metadata": {
    "id": "Vgs8Kp4TidFQ"
   },
   "source": [
    "# Intrdouction to Python - List - Assingment #2  "
   ]
  },
  {
   "cell_type": "markdown",
   "metadata": {
    "id": "_Hq7Ny79iwgD"
   },
   "source": [
    "## 1.Create a list of 5 of your favorite tv shows.  ?"
   ]
  },
  {
   "cell_type": "code",
   "execution_count": 1,
   "metadata": {
    "id": "lotvpVpvlKsR"
   },
   "outputs": [],
   "source": [
    "tv_shows = ['Dark', 'Chuck', 'Psycho Pass', 'Mindhunter', 'Criminal Minds']"
   ]
  },
  {
   "cell_type": "markdown",
   "metadata": {
    "id": "io_27RSlizno"
   },
   "source": [
    "## 2.\tPrint the list in its original order"
   ]
  },
  {
   "cell_type": "code",
   "execution_count": 2,
   "metadata": {
    "id": "Dh1o5cAylSHB"
   },
   "outputs": [
    {
     "name": "stdout",
     "output_type": "stream",
     "text": [
      "['Dark', 'Chuck', 'Psycho Pass', 'Mindhunter', 'Criminal Minds']\n"
     ]
    }
   ],
   "source": [
    "print(tv_shows)"
   ]
  },
  {
   "cell_type": "code",
   "execution_count": 3,
   "metadata": {
    "id": "vs8ppR-wlSKL"
   },
   "outputs": [
    {
     "name": "stdout",
     "output_type": "stream",
     "text": [
      "Dark\n",
      "Chuck\n",
      "Psycho Pass\n",
      "Mindhunter\n",
      "Criminal Minds\n"
     ]
    }
   ],
   "source": [
    "print(tv_shows[0])\n",
    "print(tv_shows[1])\n",
    "print(tv_shows[2])\n",
    "print(tv_shows[3])\n",
    "print(tv_shows[4])"
   ]
  },
  {
   "cell_type": "markdown",
   "metadata": {
    "id": "DAW8m8IQjRyR"
   },
   "source": [
    "## 3.\tUse the sorted() function to print the list in alphabetical order.  How is sorted() different from sort()?"
   ]
  },
  {
   "cell_type": "code",
   "execution_count": 4,
   "metadata": {
    "id": "guULMEhrjYtT"
   },
   "outputs": [
    {
     "name": "stdout",
     "output_type": "stream",
     "text": [
      "['Chuck', 'Criminal Minds', 'Dark', 'Mindhunter', 'Psycho Pass']\n"
     ]
    }
   ],
   "source": [
    "print(sorted(tv_shows))"
   ]
  },
  {
   "cell_type": "code",
   "execution_count": 5,
   "metadata": {
    "id": "cv946RaOjw-G"
   },
   "outputs": [
    {
     "name": "stdout",
     "output_type": "stream",
     "text": [
      "['Chuck', 'Criminal Minds', 'Dark', 'Mindhunter', 'Psycho Pass']\n"
     ]
    }
   ],
   "source": [
    "tv_shows.sort()\n",
    "print(tv_shows)"
   ]
  },
  {
   "cell_type": "markdown",
   "metadata": {},
   "source": [
    "sorted() is a temporary function while sort() is permanent."
   ]
  },
  {
   "cell_type": "markdown",
   "metadata": {
    "id": "dpa_YOt4jXyo"
   },
   "source": [
    "## 4.\tPrint out your original list."
   ]
  },
  {
   "cell_type": "code",
   "execution_count": 6,
   "metadata": {
    "id": "pltxfnh3iJLW"
   },
   "outputs": [],
   "source": [
    "tv_shows = ['Dark', 'Chuck', 'Psycho Pass', 'Mindhunter', 'Criminal Minds']"
   ]
  },
  {
   "cell_type": "code",
   "execution_count": 7,
   "metadata": {
    "id": "PzH5Rcn-jwPL"
   },
   "outputs": [
    {
     "name": "stdout",
     "output_type": "stream",
     "text": [
      "['Dark', 'Chuck', 'Psycho Pass', 'Mindhunter', 'Criminal Minds']\n"
     ]
    }
   ],
   "source": [
    "print(tv_shows)"
   ]
  },
  {
   "cell_type": "markdown",
   "metadata": {
    "id": "Ka84RGy4jmLT"
   },
   "source": [
    "## 5.\tUsed sorted() to print your list in reverse alphabetical order."
   ]
  },
  {
   "cell_type": "code",
   "execution_count": 8,
   "metadata": {
    "id": "34IFFtK4jrg4"
   },
   "outputs": [
    {
     "name": "stdout",
     "output_type": "stream",
     "text": [
      "['Dark', 'Chuck', 'Psycho Pass', 'Mindhunter', 'Criminal Minds']\n"
     ]
    }
   ],
   "source": [
    "print(tv_shows)"
   ]
  },
  {
   "cell_type": "code",
   "execution_count": 9,
   "metadata": {
    "id": "M17RfxQljvqb"
   },
   "outputs": [
    {
     "name": "stdout",
     "output_type": "stream",
     "text": [
      "['Psycho Pass', 'Mindhunter', 'Dark', 'Criminal Minds', 'Chuck']\n"
     ]
    }
   ],
   "source": [
    "print(sorted(tv_shows, reverse = True))"
   ]
  },
  {
   "cell_type": "markdown",
   "metadata": {
    "id": "ZKHwdMnLliFy"
   },
   "source": [
    "## 6.\tCreate a message indicating how many favorite TV shows you have – use the len() function."
   ]
  },
  {
   "cell_type": "code",
   "execution_count": 10,
   "metadata": {
    "id": "eXUDZfLOllTT"
   },
   "outputs": [
    {
     "data": {
      "text/plain": [
       "5"
      ]
     },
     "execution_count": 10,
     "metadata": {},
     "output_type": "execute_result"
    }
   ],
   "source": [
    "len(tv_shows)"
   ]
  },
  {
   "cell_type": "code",
   "execution_count": 11,
   "metadata": {
    "id": "4oNKGU70llVg"
   },
   "outputs": [
    {
     "name": "stdout",
     "output_type": "stream",
     "text": [
      "['Dark', 'Chuck', 'Psycho Pass', 'Mindhunter', 'Criminal Minds']\n"
     ]
    }
   ],
   "source": [
    "print(tv_shows)"
   ]
  },
  {
   "cell_type": "code",
   "execution_count": 12,
   "metadata": {
    "id": "jjh2GdktllZY"
   },
   "outputs": [],
   "source": [
    "message = \"I have \" + str(len(tv_shows)) + \" favorite TV Shows!\""
   ]
  },
  {
   "cell_type": "code",
   "execution_count": 13,
   "metadata": {
    "id": "iHaRIrt8llcd"
   },
   "outputs": [
    {
     "name": "stdout",
     "output_type": "stream",
     "text": [
      "I have 5 favorite TV Shows!\n"
     ]
    }
   ],
   "source": [
    "print(message)"
   ]
  }
 ],
 "metadata": {
  "colab": {
   "authorship_tag": "ABX9TyOSHq1yMukuLj74eon6Y738",
   "collapsed_sections": [],
   "include_colab_link": true,
   "name": "Unit2_List_Assignment_2.ipynb",
   "provenance": [],
   "toc_visible": true
  },
  "kernelspec": {
   "display_name": "Python 3 (ipykernel)",
   "language": "python",
   "name": "python3"
  },
  "language_info": {
   "codemirror_mode": {
    "name": "ipython",
    "version": 3
   },
   "file_extension": ".py",
   "mimetype": "text/x-python",
   "name": "python",
   "nbconvert_exporter": "python",
   "pygments_lexer": "ipython3",
   "version": "3.9.7"
  }
 },
 "nbformat": 4,
 "nbformat_minor": 1
}
