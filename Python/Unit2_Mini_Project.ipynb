{
 "cells": [
  {
   "cell_type": "markdown",
   "metadata": {
    "colab_type": "text",
    "id": "view-in-github"
   },
   "source": [
    "<a href=\"https://colab.research.google.com/github/niteen11/lagcc_data_analytics_micro_credential/blob/master/Unit%202%20-%20Python%20Fundamentals/Mini%20Project/Unit2_Mini_Project.ipynb\" target=\"_parent\"><img src=\"https://colab.research.google.com/assets/colab-badge.svg\" alt=\"Open In Colab\"/></a>"
   ]
  },
  {
   "cell_type": "markdown",
   "metadata": {
    "id": "Vgs8Kp4TidFQ"
   },
   "source": [
    "# Intrdouction to Python - Mini Project"
   ]
  },
  {
   "cell_type": "markdown",
   "metadata": {
    "id": "_Hq7Ny79iwgD"
   },
   "source": [
    "#Python Project – Odd or Even\n",
    "\n",
    "Ask the user for a number. Depending on whether the number is even or odd, print out an appropriate message to the user. \n"
   ]
  },
  {
   "cell_type": "code",
   "execution_count": 1,
   "metadata": {
    "id": "lotvpVpvlKsR"
   },
   "outputs": [],
   "source": [
    "def variable(x):\n",
    "    if x%2 == 0:\n",
    "        print('This number is even!')\n",
    "    else: print('This number is odd!')"
   ]
  },
  {
   "cell_type": "code",
   "execution_count": 2,
   "metadata": {
    "id": "oNXY-CfrlLbE"
   },
   "outputs": [
    {
     "name": "stdout",
     "output_type": "stream",
     "text": [
      "This number is even!\n"
     ]
    }
   ],
   "source": [
    "variable(4)"
   ]
  },
  {
   "cell_type": "code",
   "execution_count": 3,
   "metadata": {
    "id": "lyoaBLI8nvRT"
   },
   "outputs": [
    {
     "name": "stdout",
     "output_type": "stream",
     "text": [
      "This number is odd!\n"
     ]
    }
   ],
   "source": [
    "variable(11)"
   ]
  },
  {
   "cell_type": "code",
   "execution_count": 4,
   "metadata": {
    "id": "TuD1O2R0nvTd"
   },
   "outputs": [
    {
     "name": "stdout",
     "output_type": "stream",
     "text": [
      "This number is even!\n"
     ]
    }
   ],
   "source": [
    "variable(0)"
   ]
  },
  {
   "cell_type": "code",
   "execution_count": 5,
   "metadata": {
    "id": "1uWxo8AxnvVN"
   },
   "outputs": [
    {
     "name": "stdout",
     "output_type": "stream",
     "text": [
      "This number is odd!\n"
     ]
    }
   ],
   "source": [
    "variable(3.4)"
   ]
  },
  {
   "cell_type": "markdown",
   "metadata": {
    "id": "32ld2T0onvZE"
   },
   "source": [
    "The code works, but I will refine it more to exclude non-whole numbers"
   ]
  },
  {
   "cell_type": "code",
   "execution_count": 6,
   "metadata": {
    "id": "DGwOthAbnvaw"
   },
   "outputs": [],
   "source": [
    "def variable(x):\n",
    "    if x%2 == 0:\n",
    "        print('This number is even!')\n",
    "    elif x%2 == 1:\n",
    "        print('This number is odd!')\n",
    "    else: print('This number is neither even nor odd')"
   ]
  },
  {
   "cell_type": "code",
   "execution_count": 7,
   "metadata": {
    "id": "6_iDEhq5nvd8"
   },
   "outputs": [
    {
     "name": "stdout",
     "output_type": "stream",
     "text": [
      "This number is odd!\n",
      "This number is even!\n",
      "This number is neither even nor odd\n"
     ]
    }
   ],
   "source": [
    "variable(333)\n",
    "variable(31314)\n",
    "variable(56.5)"
   ]
  },
  {
   "cell_type": "markdown",
   "metadata": {
    "id": "io_27RSlizno"
   },
   "source": [
    "# Bonus:\n",
    "\n",
    "1.\tIf the number is a multiple of 4, print out a different message.\n"
   ]
  },
  {
   "cell_type": "code",
   "execution_count": 8,
   "metadata": {
    "id": "Dh1o5cAylSHB"
   },
   "outputs": [],
   "source": [
    "def variable(x):\n",
    "    if x%4 == 0:\n",
    "        print('This number is a multiple of 4')\n",
    "    elif x%2 == 0:\n",
    "        print('This number is even')\n",
    "    elif x%2 == 1:\n",
    "        print('This number is odd')\n",
    "    else: print('This number is neither odd nor even')"
   ]
  },
  {
   "cell_type": "code",
   "execution_count": 11,
   "metadata": {
    "id": "vs8ppR-wlSKL"
   },
   "outputs": [
    {
     "name": "stdout",
     "output_type": "stream",
     "text": [
      "This number is a multiple of 4\n",
      "This number is even\n",
      "This number is odd\n",
      "This number is neither odd nor even\n"
     ]
    }
   ],
   "source": [
    "variable(12)\n",
    "variable(2)\n",
    "variable(3)\n",
    "variable(4.5)"
   ]
  },
  {
   "cell_type": "markdown",
   "metadata": {
    "id": "5mkKtxzunuqc"
   },
   "source": [
    "2.\tAsk the user for two numbers: one number to check (call it num) and one number to divide by (check). If check divides evenly into num, tell that to the user. If not, print a different appropriate message."
   ]
  },
  {
   "cell_type": "code",
   "execution_count": 36,
   "metadata": {
    "id": "rmfPnI5onutd"
   },
   "outputs": [],
   "source": [
    "def new_variable(num, check):\n",
    "    if num%check == 0:\n",
    "        print('This divides evenly!')\n",
    "    else: print('This still has remainders')"
   ]
  },
  {
   "cell_type": "code",
   "execution_count": 37,
   "metadata": {
    "id": "6000qDkVnuxM"
   },
   "outputs": [
    {
     "name": "stdout",
     "output_type": "stream",
     "text": [
      "This divides evenly!\n",
      "This still has remainders\n"
     ]
    }
   ],
   "source": [
    "new_variable(4,2)\n",
    "new_variable(11,4)"
   ]
  },
  {
   "cell_type": "markdown",
   "metadata": {
    "id": "X2X4dTbfnu0M"
   },
   "source": [
    "\n",
    "3.  Write a custom function for finding whether the number is even or odd and call it in your main program code."
   ]
  },
  {
   "cell_type": "code",
   "execution_count": 33,
   "metadata": {},
   "outputs": [],
   "source": [
    "def odd_or_even(num):\n",
    "    if int(num)%2 == 0:\n",
    "        print(str(num) + ' is an even number!')\n",
    "    else: \n",
    "        print(str(num) + ' is an odd number')"
   ]
  },
  {
   "cell_type": "code",
   "execution_count": 34,
   "metadata": {},
   "outputs": [
    {
     "name": "stdout",
     "output_type": "stream",
     "text": [
      "5 is an odd number\n"
     ]
    }
   ],
   "source": [
    "odd_or_even(5)"
   ]
  },
  {
   "cell_type": "code",
   "execution_count": 35,
   "metadata": {},
   "outputs": [
    {
     "name": "stdout",
     "output_type": "stream",
     "text": [
      "6.5 is an even number!\n"
     ]
    }
   ],
   "source": [
    "odd_or_even(6.5)"
   ]
  }
 ],
 "metadata": {
  "colab": {
   "authorship_tag": "ABX9TyPv6UTDnLJown4zuKgtgDOQ",
   "collapsed_sections": [],
   "include_colab_link": true,
   "name": "Unit2_Mini_Project.ipynb",
   "provenance": [],
   "toc_visible": true
  },
  "kernelspec": {
   "display_name": "Python 3 (ipykernel)",
   "language": "python",
   "name": "python3"
  },
  "language_info": {
   "codemirror_mode": {
    "name": "ipython",
    "version": 3
   },
   "file_extension": ".py",
   "mimetype": "text/x-python",
   "name": "python",
   "nbconvert_exporter": "python",
   "pygments_lexer": "ipython3",
   "version": "3.9.7"
  }
 },
 "nbformat": 4,
 "nbformat_minor": 1
}
